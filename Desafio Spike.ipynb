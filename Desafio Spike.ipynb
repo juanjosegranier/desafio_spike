{
 "cells": [
  {
   "cell_type": "code",
   "execution_count": 3,
   "metadata": {},
   "outputs": [
    {
     "name": "stdout",
     "output_type": "stream",
     "text": [
      "Setup complete\n"
     ]
    }
   ],
   "source": [
    "import pandas as pd\n",
    "import numpy as np\n",
    "import matplotlib.pyplot as plt\n",
    "import seaborn as sns\n",
    "\n",
    "from datetime import date,datetime\n",
    "\n",
    "from tqdm import tqdm, tqdm_notebook\n",
    "\n",
    "from sklearn.model_selection import train_test_split\n",
    "\n",
    "print(\"Setup complete\")\n",
    "\n",
    "#Una de las posibles razones de que las mediciones sean como están es porque una misma estación mide más de una cuenca, por lo que obtener los datos desede\n",
    "#diferentes sensbilidades es complicado"
   ]
  },
  {
   "cell_type": "code",
   "execution_count": 4,
   "metadata": {},
   "outputs": [],
   "source": [
    "caudal_data = pd.read_csv('/Users/juanjosegranier/Downloads/caudal_extra.csv') #Acá pueden cambiar la dirección o simplemente bajarlo, como más les convenga"
   ]
  },
  {
   "cell_type": "code",
   "execution_count": 5,
   "metadata": {},
   "outputs": [],
   "source": [
    "caudal = caudal_data.copy()\n",
    "caudal['fecha'] = pd.to_datetime(caudal_data['fecha'])"
   ]
  },
  {
   "cell_type": "code",
   "execution_count": 6,
   "metadata": {},
   "outputs": [],
   "source": [
    "def time_plot_una_estacion(codigo_estacion, columna, fecha_min, fecha_max): \n",
    "    xaski = (caudal['fecha'] <= fecha_max) & (caudal['fecha'] >= fecha_min)\n",
    "    columna_0 = caudal.loc[xaski]\n",
    "    columna_1 = columna_0[columna]\n",
    "    columna_fecha_0 = caudal.loc[xaski]\n",
    "    columna_fecha_1 = columna_fecha_0['fecha']\n",
    "    plt.title(\"Mediciones de una columna\")\n",
    "    plt.xlabel(\"Fecha\")\n",
    "    plt.ylabel(\"Medicion\")\n",
    "    plt.legend()\n",
    "    plt.plot(columna_fecha_1,columna_1, \"b.\")\n",
    "    return \"\""
   ]
  },
  {
   "cell_type": "code",
   "execution_count": 7,
   "metadata": {},
   "outputs": [],
   "source": [
    "def time_plot_estaciones_varias_columnas(codigo_estacion, columnas, fecha_min, fecha_max): #Probarlo con columnas = ['caudal', 'precip_promedio', 'temp_max_promedio']\n",
    "    xaski = (caudal['fecha'] <= fecha_max) & (caudal['fecha'] >= fecha_min)\n",
    "    columna_0 = caudal.loc[xaski]\n",
    "    columna_10 = columna_0[columnas[0]] #caudal\n",
    "    columna_11 = columna_0[columnas[1]]*100 #precipitaciones\n",
    "    columna_12 = columna_0[columnas[2]]*100 #temperatura\n",
    "    columna_fecha_0 = caudal.loc[xaski]\n",
    "    columna_fecha_1 = columna_fecha_0['fecha']\n",
    "    plt.title(\"Mediciones de varias columnas\")\n",
    "    plt.xlabel(\"Fecha\")\n",
    "    plt.ylabel(\"Mediciones\")\n",
    "    plt.legend()\n",
    "    plt.plot(columna_fecha_1, [columna_10, columna_11, columna_12])\n",
    "    return \"\""
   ]
  },
  {
   "cell_type": "code",
   "execution_count": 8,
   "metadata": {},
   "outputs": [],
   "source": [
    "Y = 2000 # dummy leap year to allow input X-02-29 (leap day) #Para poder particionar en estaciones del año\n",
    "seasons = [('verano', (date(Y,  1,  1),  date(Y,  3, 20))),\n",
    "           ('otono', (date(Y,  3, 21),  date(Y,  6, 20))),\n",
    "           ('invierno', (date(Y,  6, 21),  date(Y,  9, 20))),\n",
    "           ('primavera', (date(Y,  9, 21),  date(Y, 12, 20))),\n",
    "           ('verano', (date(Y, 12, 21),  date(Y, 12, 31)))]\n",
    "\n",
    "def get_season(now):\n",
    "    if isinstance(now, datetime):\n",
    "        now = now.date()\n",
    "    now = now.replace(year=Y)\n",
    "    return next(season for season, (start, end) in seasons\n",
    "                if start <= now <= end)"
   ]
  },
  {
   "cell_type": "code",
   "execution_count": 9,
   "metadata": {},
   "outputs": [],
   "source": [
    "caudal['season'] = caudal['fecha'].apply(get_season) #Obtenemos las estaciones del año"
   ]
  },
  {
   "cell_type": "code",
   "execution_count": 10,
   "metadata": {},
   "outputs": [
    {
     "data": {
      "application/vnd.jupyter.widget-view+json": {
       "model_id": "536f3d00593b4b798f4f73eb09538750",
       "version_major": 2,
       "version_minor": 0
      },
      "text/plain": [
       "HBox(children=(IntProgress(value=1, bar_style='info', max=1), HTML(value='')))"
      ]
     },
     "metadata": {},
     "output_type": "display_data"
    },
    {
     "name": "stdout",
     "output_type": "stream",
     "text": [
      "\n"
     ]
    }
   ],
   "source": [
    "tqdm_notebook().pandas() #Para poder ocupar apply con filas"
   ]
  },
  {
   "cell_type": "code",
   "execution_count": 11,
   "metadata": {},
   "outputs": [
    {
     "data": {
      "application/vnd.jupyter.widget-view+json": {
       "model_id": "bfb81de90614416789334a8079163f55",
       "version_major": 2,
       "version_minor": 0
      },
      "text/plain": [
       "HBox(children=(IntProgress(value=0, max=1411180), HTML(value='')))"
      ]
     },
     "metadata": {},
     "output_type": "display_data"
    },
    {
     "name": "stdout",
     "output_type": "stream",
     "text": [
      "\n"
     ]
    }
   ],
   "source": [
    "caudal['year'] = caudal.progress_apply(lambda row: row['fecha'].year, axis = 1)"
   ]
  },
  {
   "cell_type": "code",
   "execution_count": 12,
   "metadata": {},
   "outputs": [],
   "source": [
    "def evento(a):\n",
    "    if pd.notna(a) == True:  #Nos sirve para obtener contadores binarios como en el caso de las variables extremas, \n",
    "                             #así poder obtener los porcentajes de forma más fácil\n",
    "        return 1\n",
    "    else:\n",
    "        return 0"
   ]
  },
  {
   "cell_type": "code",
   "execution_count": 14,
   "metadata": {},
   "outputs": [
    {
     "data": {
      "application/vnd.jupyter.widget-view+json": {
       "model_id": "cf0c30fea6b34303a9a1c89204cbe488",
       "version_major": 2,
       "version_minor": 0
      },
      "text/plain": [
       "HBox(children=(IntProgress(value=0, max=1411180), HTML(value='')))"
      ]
     },
     "metadata": {},
     "output_type": "display_data"
    }
   ],
   "source": [
    "caudal['cauevento'] = caudal.progress_apply(lambda row: evento(row['caudal']), axis = 1)"
   ]
  },
  {
   "cell_type": "code",
   "execution_count": 15,
   "metadata": {},
   "outputs": [
    {
     "data": {
      "application/vnd.jupyter.widget-view+json": {
       "model_id": "88b832aa00fe4b16aa4eed600f67a4b6",
       "version_major": 2,
       "version_minor": 0
      },
      "text/plain": [
       "HBox(children=(IntProgress(value=0, max=1411180), HTML(value='')))"
      ]
     },
     "metadata": {},
     "output_type": "display_data"
    }
   ],
   "source": [
    "caudal['tempevento'] = caudal.progress_apply(lambda row: evento(row['temp_max_promedio']), axis = 1)"
   ]
  },
  {
   "cell_type": "code",
   "execution_count": 16,
   "metadata": {},
   "outputs": [
    {
     "data": {
      "application/vnd.jupyter.widget-view+json": {
       "model_id": "f1b6525e598d4744b4b7759fdb4221b7",
       "version_major": 2,
       "version_minor": 0
      },
      "text/plain": [
       "HBox(children=(IntProgress(value=0, max=1411180), HTML(value='')))"
      ]
     },
     "metadata": {},
     "output_type": "display_data"
    }
   ],
   "source": [
    "caudal['precevento'] = caudal.progress_apply(lambda row: evento(row['precip_promedio']), axis = 1)"
   ]
  },
  {
   "cell_type": "code",
   "execution_count": 17,
   "metadata": {},
   "outputs": [],
   "source": [
    "x_caudal = [[0 for i in range(133)] for i in range(4)]\n",
    "x_temp =[[0 for i in range(133)] for i in range(4)]\n",
    "x_precip = [[0 for i in range(133)] for i in range(4)]"
   ]
  },
  {
   "cell_type": "code",
   "execution_count": 19,
   "metadata": {},
   "outputs": [],
   "source": [
    "estaciones0 = caudal.codigo_estacion.unique()\n",
    "estaciones = estaciones0.tolist()                     #Creamos listas para indexar mejor\n",
    "temporadas = ['verano','otono','invierno','primavera']"
   ]
  },
  {
   "cell_type": "code",
   "execution_count": 20,
   "metadata": {},
   "outputs": [
    {
     "name": "stderr",
     "output_type": "stream",
     "text": [
      "//anaconda3/lib/python3.7/site-packages/numpy/lib/function_base.py:3826: RuntimeWarning: Invalid value encountered in percentile\n",
      "  interpolation=interpolation)\n"
     ]
    }
   ],
   "source": [
    "for estacion in estaciones: #Definimos un arreglo bidimensional para almacenar los valores de los percentiles\n",
    "    for temporada in temporadas:\n",
    "        caudalis = caudal.loc[caudal.codigo_estacion == estacion]\n",
    "        caudalis2 = caudalis.loc[caudalis.season == temporada]\n",
    "        i = temporadas.index(temporada)\n",
    "        j = estaciones.index(estacion)\n",
    "        x_caudal[i][j] = np.percentile(caudalis2['caudal'],95) \n",
    "        x_temp[i][j] = np.percentile(caudalis2['temp_max_promedio'],95)\n",
    "        x_precip[i][j] = np.percentile(caudalis2['precip_promedio'],95)"
   ]
  },
  {
   "cell_type": "code",
   "execution_count": 21,
   "metadata": {},
   "outputs": [],
   "source": [
    "def p95_caudal(estacion):\n",
    "    i = estaciones.index(estacion)\n",
    "    return [x_caudal[0][i], x_caudal[1][i], x_caudal[2][i], x_caudal[3][i]]\n",
    "\n",
    "def p95_temp(estacion):\n",
    "    i = estaciones.index(estacion)\n",
    "    return [x_temp[0][i],  x_temp[1][i], x_temp[2][i], x_temp[3][i]] #Primero obtenemos arreglos, luego proyectamos\n",
    "\n",
    "def p95_precip(estacion):\n",
    "    i = estaciones.index(estacion)\n",
    "    return [ x_precip[0][i], x_precip[1][i], x_precip[2][i] , x_precip[3][i]]"
   ]
  },
  {
   "cell_type": "code",
   "execution_count": 22,
   "metadata": {},
   "outputs": [],
   "source": [
    "caudal['p95c'] = ''\n",
    "caudal['p95p'] = ''\n",
    "caudal['p95t'] = ''"
   ]
  },
  {
   "cell_type": "code",
   "execution_count": 23,
   "metadata": {},
   "outputs": [],
   "source": [
    "caudal['p95c'] = caudal['codigo_estacion'].apply(p95_caudal)\n",
    "caudal['p95t'] = caudal['codigo_estacion'].apply(p95_temp) #Obtenemos los arreglos con los 4 posibles valores segun las estaciones del año por fila\n",
    "caudal['p95p'] = caudal['codigo_estacion'].apply(p95_precip)"
   ]
  },
  {
   "cell_type": "code",
   "execution_count": 24,
   "metadata": {},
   "outputs": [],
   "source": [
    "def elemento(a,b):\n",
    "    i = temporadas.index(b) #Con esto obtenemos el elemento específico del arreglo\n",
    "    return a[i]"
   ]
  },
  {
   "cell_type": "code",
   "execution_count": 25,
   "metadata": {},
   "outputs": [
    {
     "data": {
      "application/vnd.jupyter.widget-view+json": {
       "model_id": "754bd8f008f544aa9d9c2685f435ff9e",
       "version_major": 2,
       "version_minor": 0
      },
      "text/plain": [
       "HBox(children=(IntProgress(value=0, max=1411180), HTML(value='')))"
      ]
     },
     "metadata": {},
     "output_type": "display_data"
    }
   ],
   "source": [
    "caudal['p95cdef'] = caudal.progress_apply(lambda row: elemento(row['p95c'], row['season']), axis = 1)\n"
   ]
  },
  {
   "cell_type": "code",
   "execution_count": 26,
   "metadata": {},
   "outputs": [
    {
     "data": {
      "application/vnd.jupyter.widget-view+json": {
       "model_id": "fdf867940abf48adbf11cf8a1c36911a",
       "version_major": 2,
       "version_minor": 0
      },
      "text/plain": [
       "HBox(children=(IntProgress(value=0, max=1411180), HTML(value='')))"
      ]
     },
     "metadata": {},
     "output_type": "display_data"
    }
   ],
   "source": [
    "caudal['p95tdef'] = caudal.progress_apply(lambda row: elemento(row['p95t'], row['season']), axis = 1 )"
   ]
  },
  {
   "cell_type": "code",
   "execution_count": 27,
   "metadata": {},
   "outputs": [
    {
     "data": {
      "application/vnd.jupyter.widget-view+json": {
       "model_id": "0add64b057d54a4e80b2d93a090e8592",
       "version_major": 2,
       "version_minor": 0
      },
      "text/plain": [
       "HBox(children=(IntProgress(value=0, max=1411180), HTML(value='')))"
      ]
     },
     "metadata": {},
     "output_type": "display_data"
    }
   ],
   "source": [
    "caudal['p95pdef'] = caudal.progress_apply(lambda row: elemento(row['p95p'], row['season']), axis = 1)"
   ]
  },
  {
   "cell_type": "code",
   "execution_count": 28,
   "metadata": {},
   "outputs": [],
   "source": [
    "def extremo(a,b):\n",
    "    if a >= b:\n",
    "        return 1 #Con este método obtenemos finalmente las variables booleanas extremas, a decir verdad es una buena idea poder comparar con un 95% de la muestra y tener un 5% superior, aunque podríamos considerarlo hasta el día anterior\n",
    "    else:\n",
    "        return 0"
   ]
  },
  {
   "cell_type": "code",
   "execution_count": 29,
   "metadata": {},
   "outputs": [
    {
     "data": {
      "application/vnd.jupyter.widget-view+json": {
       "model_id": "7e8b491317e24acb9c55ae0df059cf20",
       "version_major": 2,
       "version_minor": 0
      },
      "text/plain": [
       "HBox(children=(IntProgress(value=0, max=1411180), HTML(value='')))"
      ]
     },
     "metadata": {},
     "output_type": "display_data"
    }
   ],
   "source": [
    "caudal['caudal_extremo'] = caudal.progress_apply(lambda row: extremo(row['caudal'], row['p95cdef']), axis = 1)"
   ]
  },
  {
   "cell_type": "code",
   "execution_count": 30,
   "metadata": {},
   "outputs": [
    {
     "data": {
      "application/vnd.jupyter.widget-view+json": {
       "model_id": "df841c40fb834047b880002ba2842e09",
       "version_major": 2,
       "version_minor": 0
      },
      "text/plain": [
       "HBox(children=(IntProgress(value=0, max=1411180), HTML(value='')))"
      ]
     },
     "metadata": {},
     "output_type": "display_data"
    }
   ],
   "source": [
    "caudal['temp_extremo'] = caudal.progress_apply(lambda row: extremo(row['temp_max_promedio'], row['p95tdef']), axis = 1)"
   ]
  },
  {
   "cell_type": "code",
   "execution_count": 33,
   "metadata": {},
   "outputs": [
    {
     "data": {
      "application/vnd.jupyter.widget-view+json": {
       "model_id": "2e0e1eb94c9346fc95c4fb696ec103b0",
       "version_major": 2,
       "version_minor": 0
      },
      "text/plain": [
       "HBox(children=(IntProgress(value=0, max=1411180), HTML(value='')))"
      ]
     },
     "metadata": {},
     "output_type": "display_data"
    }
   ],
   "source": [
    "caudal['precip_extremo'] = caudal.progress_apply(lambda row: extremo(row['precip_promedio'], row['p95pdef']), axis = 1)"
   ]
  },
  {
   "cell_type": "code",
   "execution_count": null,
   "metadata": {},
   "outputs": [],
   "source": [
    "caudal.groupby('gauge_id').caudal_extremo.value_counts() #Podemos observar que hay grandes diferencias en las cuencas, esto pues pueden haber mediciones desde más de una estación. También pueden hacer un scatter condierando datos como latitud y longitud versus las ocurrencias extremas totales"
   ]
  },
  {
   "cell_type": "code",
   "execution_count": 34,
   "metadata": {},
   "outputs": [],
   "source": [
    "\n",
    "x2_caudal = [0 for i in range(59)]\n",
    "x2_temp = [0 for i in range(59)]\n",
    "x2_prep = [0 for i in range(59)]\n",
    "\n",
    "y2_caudal = [0 for i in range(59)] #Con esta matriz obtenemos los porcentajes\n",
    "y2_temp = [0 for i in range(59)]\n",
    "y2_prep = [0 for i in range(59)]\n",
    "\n",
    "z2_caudal = [0 for i in range(59)]\n",
    "z2_temp = [0 for i in range(59)]\n",
    "z2_prep = [0 for i in range(59)]"
   ]
  },
  {
   "cell_type": "code",
   "execution_count": null,
   "metadata": {},
   "outputs": [],
   "source": [
    "#caudal = caudal_set.index('year') #Es una posibilidad indexar por año para obtener mejores resultados al graficar"
   ]
  },
  {
   "cell_type": "code",
   "execution_count": 35,
   "metadata": {},
   "outputs": [],
   "source": [
    "hola_caudal = caudal.groupby('year').cauevento.value_counts().sort_index()\n",
    "hola_temp = caudal.groupby('year').tempevento.value_counts().sort_index()\n",
    "hola_prep = caudal.groupby('year').precevento.value_counts().sort_index()\n",
    "hola2_caudal = caudal.groupby('year').caudal_extremo.value_counts().sort_index()\n",
    "hola2_temp = caudal.groupby('year').temp_extremo.value_counts().sort_index()\n",
    "hola2_prep = caudal.groupby('year').precip_extremo.value_counts().sort_index()"
   ]
  },
  {
   "cell_type": "code",
   "execution_count": 36,
   "metadata": {},
   "outputs": [],
   "source": [
    "for i in range(59):\n",
    "    x2_caudal[i] = hola_caudal[i]\n",
    "    x2_temp[i] = hola_temp[i]\n",
    "    x2_prep[i] = hola_prep[i]\n",
    "    y2_caudal[i] = hola2_caudal[2*i+1]\n",
    "    y2_temp[i] = hola2_temp[2*i + 1]\n",
    "    y2_prep[i] = hola2_prep[2*i+1]\n",
    "    z2_caudal[i] = (y2_caudal[i]/x2_caudal[i])*100\n",
    "    z2_temp[i] = (y2_temp[i]/x2_temp[i])*100\n",
    "    z2_prep[i] = (y2_prep[i]/x2_prep[i])*100"
   ]
  },
  {
   "cell_type": "code",
   "execution_count": 39,
   "metadata": {},
   "outputs": [],
   "source": [
    "years = caudal.year.unique().tolist()"
   ]
  },
  {
   "cell_type": "code",
   "execution_count": 45,
   "metadata": {},
   "outputs": [
    {
     "data": {
      "text/plain": [
       "[<matplotlib.lines.Line2D at 0x1aac0eada0>]"
      ]
     },
     "execution_count": 45,
     "metadata": {},
     "output_type": "execute_result"
    },
    {
     "data": {
      "image/png": "[encoded data removed]",
      "text/plain": [
       "<Figure size 432x288 with 1 Axes>"
      ]
     },
     "metadata": {
      "needs_background": "light"
     },
     "output_type": "display_data"
    }
   ],
   "source": [
    "plt.plot(years,z2_caudal) #En esta parte pueden probar por z2_prep, z2_temp. Notar que hay valores que se disparan. Esto último puede ser porque los valores obtenidos no están bien indexados con 'years'"
   ]
  },
  {
   "cell_type": "code",
   "execution_count": null,
   "metadata": {},
   "outputs": [],
   "source": []
  }
 ],
 "metadata": {
  "kernelspec": {
   "display_name": "Python 3",
   "language": "python",
   "name": "python3"
  },
  "language_info": {
   "codemirror_mode": {
    "name": "ipython",
    "version": 3
   },
   "file_extension": ".py",
   "mimetype": "text/x-python",
   "name": "python",
   "nbconvert_exporter": "python",
   "pygments_lexer": "ipython3",
   "version": "3.7.3"
  },
  "widgets": {
   "application/vnd.jupyter.widget-state+json": {
    "state": {
     "054c41dfdc9d47d9b7afadb71ff7ce87": {
      "model_module": "@jupyter-widgets/controls",
      "model_module_version": "1.5.0",
      "model_name": "HTMLModel",
      "state": {
       "layout": "IPY_MODEL_671e36109f764e1880573a1be858e394",
       "style": "IPY_MODEL_32a80b47f5d84c3897136bacfe6bcf2b",
       "value": "100% 1411180/1411180 [04:54&lt;00:00, 4799.77it/s]"
      }
     },
     "06a8b406ddec4925bf156f4ccfeb8331": {
      "model_module": "@jupyter-widgets/controls",
      "model_module_version": "1.5.0",
      "model_name": "HTMLModel",
      "state": {
       "layout": "IPY_MODEL_fb8c7addb8994233926cc57fedfbdde1",
       "style": "IPY_MODEL_3cd0e7c077254baab4ca6a7daf6a8d2f",
       "value": "  0% 1/1411180 [00:10&lt;4158:56:26, 10.61s/it]"
      }
     },
     "07485c104d4747b7b2402c23d4651252": {
      "model_module": "@jupyter-widgets/base",
      "model_module_version": "1.2.0",
      "model_name": "LayoutModel",
      "state": {}
     },
     "08e193aaa1bc4ea48576479c4b6dda77": {
      "model_module": "@jupyter-widgets/controls",
      "model_module_version": "1.5.0",
      "model_name": "ProgressStyleModel",
      "state": {
       "description_width": ""
      }
     },
     "098fc4fe344a45619bdc7cab66931c3b": {
      "model_module": "@jupyter-widgets/controls",
      "model_module_version": "1.5.0",
      "model_name": "DescriptionStyleModel",
      "state": {
       "description_width": ""
      }
     },
     "0add64b057d54a4e80b2d93a090e8592": {
      "model_module": "@jupyter-widgets/controls",
      "model_module_version": "1.5.0",
      "model_name": "HBoxModel",
      "state": {
       "children": [
        "IPY_MODEL_e0b67dfd8671495482c3f847c0a1eded",
        "IPY_MODEL_32c6daccd6b049479d1fac330bab5a6c"
       ],
       "layout": "IPY_MODEL_935e706bc5e94bd2ad6124a2cb75fa70"
      }
     },
     "0d00011feb0f4838a7da5184ae0e92eb": {
      "model_module": "@jupyter-widgets/controls",
      "model_module_version": "1.5.0",
      "model_name": "HBoxModel",
      "state": {
       "children": [
        "IPY_MODEL_30ca9354f1fd4303af0234796a3a1b74",
        "IPY_MODEL_06a8b406ddec4925bf156f4ccfeb8331"
       ],
       "layout": "IPY_MODEL_d803bdd90fec4f40b951ca30b44c380b"
      }
     },
     "0e1bc06f77fc4614ba3ffb60c38efdc3": {
      "model_module": "@jupyter-widgets/base",
      "model_module_version": "1.2.0",
      "model_name": "LayoutModel",
      "state": {}
     },
     "13cc993109524a129e94a073629fca21": {
      "model_module": "@jupyter-widgets/controls",
      "model_module_version": "1.5.0",
      "model_name": "IntProgressModel",
      "state": {
       "bar_style": "success",
       "layout": "IPY_MODEL_8eb00fd4e89049db8095f59214866c5a",
       "max": 1411180,
       "style": "IPY_MODEL_29a507406d5442cb881684a3f0a12abf",
       "value": 1411180
      }
     },
     "153f151a4deb4ac8b3cd16d7ebbf4cdb": {
      "model_module": "@jupyter-widgets/controls",
      "model_module_version": "1.5.0",
      "model_name": "IntProgressModel",
      "state": {
       "bar_style": "success",
       "layout": "IPY_MODEL_b2d50cf2c8a34c5baabee66861e87a9a",
       "max": 1411180,
       "style": "IPY_MODEL_9e9bb5747d1542fb92baa757c7d89eec",
       "value": 1411180
      }
     },
     "1b0549e3f27542e7801730826637a9a5": {
      "model_module": "@jupyter-widgets/base",
      "model_module_version": "1.2.0",
      "model_name": "LayoutModel",
      "state": {}
     },
     "2394abb8d0d04998871db9d7e6fddd92": {
      "model_module": "@jupyter-widgets/base",
      "model_module_version": "1.2.0",
      "model_name": "LayoutModel",
      "state": {}
     },
     "24eb25189b18482ca0954b507a9f0061": {
      "model_module": "@jupyter-widgets/controls",
      "model_module_version": "1.5.0",
      "model_name": "IntProgressModel",
      "state": {
       "bar_style": "success",
       "layout": "IPY_MODEL_807b15945ce840499b3723ac7121f9b8",
       "max": 1411180,
       "style": "IPY_MODEL_e1b3d9b829804b09a4ee5d61a28a7d65",
       "value": 1411180
      }
     },
     "257293da874446a5b69bd233f87274df": {
      "model_module": "@jupyter-widgets/controls",
      "model_module_version": "1.5.0",
      "model_name": "DescriptionStyleModel",
      "state": {
       "description_width": ""
      }
     },
     "29a507406d5442cb881684a3f0a12abf": {
      "model_module": "@jupyter-widgets/controls",
      "model_module_version": "1.5.0",
      "model_name": "ProgressStyleModel",
      "state": {
       "description_width": ""
      }
     },
     "2e0e1eb94c9346fc95c4fb696ec103b0": {
      "model_module": "@jupyter-widgets/controls",
      "model_module_version": "1.5.0",
      "model_name": "HBoxModel",
      "state": {
       "children": [
        "IPY_MODEL_9a114472a6cd4a94967161df9af94618",
        "IPY_MODEL_50d8f365ff8c4d5ca02d6fa74ae2d466"
       ],
       "layout": "IPY_MODEL_ab2e927a26354d83abc1b85e0a5399f4"
      }
     },
     "2f00f6c538574577aa1566b1742c5a3a": {
      "model_module": "@jupyter-widgets/base",
      "model_module_version": "1.2.0",
      "model_name": "LayoutModel",
      "state": {}
     },
     "30ca9354f1fd4303af0234796a3a1b74": {
      "model_module": "@jupyter-widgets/controls",
      "model_module_version": "1.5.0",
      "model_name": "IntProgressModel",
      "state": {
       "layout": "IPY_MODEL_1b0549e3f27542e7801730826637a9a5",
       "max": 1411180,
       "style": "IPY_MODEL_e4f06be163734603b90b8dc4de7d761b",
       "value": 1
      }
     },
     "31f1b0a900ba491ca6e16c0c8d30d6ef": {
      "model_module": "@jupyter-widgets/base",
      "model_module_version": "1.2.0",
      "model_name": "LayoutModel",
      "state": {}
     },
     "32a80b47f5d84c3897136bacfe6bcf2b": {
      "model_module": "@jupyter-widgets/controls",
      "model_module_version": "1.5.0",
      "model_name": "DescriptionStyleModel",
      "state": {
       "description_width": ""
      }
     },
     "32c6daccd6b049479d1fac330bab5a6c": {
      "model_module": "@jupyter-widgets/controls",
      "model_module_version": "1.5.0",
      "model_name": "HTMLModel",
      "state": {
       "layout": "IPY_MODEL_d124a161382b4710b8477433d821a69f",
       "style": "IPY_MODEL_60cf1fe708614454adc60a0ab7b47d76",
       "value": "100% 1411180/1411180 [05:31&lt;00:00, 4253.11it/s]"
      }
     },
     "35ceb3f1378144628a4d6296c43816a9": {
      "model_module": "@jupyter-widgets/controls",
      "model_module_version": "1.5.0",
      "model_name": "ProgressStyleModel",
      "state": {
       "description_width": ""
      }
     },
     "35d481913ccf4f5a9702773fab7abfd1": {
      "model_module": "@jupyter-widgets/controls",
      "model_module_version": "1.5.0",
      "model_name": "HTMLModel",
      "state": {
       "layout": "IPY_MODEL_b5a63f63fb9741148f647ad89fe52ea3",
       "style": "IPY_MODEL_ee7a5d39c6d3408f90ed746f77da0257",
       "value": "100% 1411180/1411180 [05:37&lt;00:00, 4186.02it/s]"
      }
     },
     "3cd0e7c077254baab4ca6a7daf6a8d2f": {
      "model_module": "@jupyter-widgets/controls",
      "model_module_version": "1.5.0",
      "model_name": "DescriptionStyleModel",
      "state": {
       "description_width": ""
      }
     },
     "3f53b3c432364a1ebc097923a431906d": {
      "model_module": "@jupyter-widgets/base",
      "model_module_version": "1.2.0",
      "model_name": "LayoutModel",
      "state": {}
     },
     "50d8f365ff8c4d5ca02d6fa74ae2d466": {
      "model_module": "@jupyter-widgets/controls",
      "model_module_version": "1.5.0",
      "model_name": "HTMLModel",
      "state": {
       "layout": "IPY_MODEL_85db2c36fe3e42a9b1a32eed0a11a817",
       "style": "IPY_MODEL_9e9d6a845bdf42f3a41d768aa06ac4f0",
       "value": "100% 1411180/1411180 [05:30&lt;00:00, 4273.13it/s]"
      }
     },
     "526e2aa60560441fa3bf092b2d61c5f2": {
      "model_module": "@jupyter-widgets/base",
      "model_module_version": "1.2.0",
      "model_name": "LayoutModel",
      "state": {}
     },
     "535082bd83c446af83f20ac0caca1723": {
      "model_module": "@jupyter-widgets/controls",
      "model_module_version": "1.5.0",
      "model_name": "HTMLModel",
      "state": {
       "layout": "IPY_MODEL_9e962055bbda4cda87d8b4b65fd15ee2",
       "style": "IPY_MODEL_ac314fe53a674fac8ad0693f1bbb6167",
       "value": "100% 1411180/1411180 [05:05&lt;00:00, 4615.27it/s]"
      }
     },
     "536f3d00593b4b798f4f73eb09538750": {
      "model_module": "@jupyter-widgets/controls",
      "model_module_version": "1.5.0",
      "model_name": "HBoxModel",
      "state": {
       "children": [
        "IPY_MODEL_c51d552ff7734c38995be64aa4f961aa",
        "IPY_MODEL_9a2916cf96b543918c04a9567b1dab25"
       ],
       "layout": "IPY_MODEL_f07d3359ec0f47f988505d740b0da509"
      }
     },
     "53714532afd942989481dcd5f90039df": {
      "model_module": "@jupyter-widgets/controls",
      "model_module_version": "1.5.0",
      "model_name": "DescriptionStyleModel",
      "state": {
       "description_width": ""
      }
     },
     "56d396469fe84e0582b9eef1262fce1a": {
      "model_module": "@jupyter-widgets/base",
      "model_module_version": "1.2.0",
      "model_name": "LayoutModel",
      "state": {}
     },
     "59ecaea0752e44bfb88afff147511ad6": {
      "model_module": "@jupyter-widgets/controls",
      "model_module_version": "1.5.0",
      "model_name": "IntProgressModel",
      "state": {
       "bar_style": "success",
       "layout": "IPY_MODEL_f82e999855174d64bb4864498939fde5",
       "max": 1411180,
       "style": "IPY_MODEL_e90565ca607645c79972973003dbfc91",
       "value": 1411180
      }
     },
     "5d44583be9484953b0a33a1f44b104b9": {
      "model_module": "@jupyter-widgets/controls",
      "model_module_version": "1.5.0",
      "model_name": "ProgressStyleModel",
      "state": {
       "description_width": ""
      }
     },
     "60cf1fe708614454adc60a0ab7b47d76": {
      "model_module": "@jupyter-widgets/controls",
      "model_module_version": "1.5.0",
      "model_name": "DescriptionStyleModel",
      "state": {
       "description_width": ""
      }
     },
     "6620e123e0d14fe48907f8cf60b0ebc5": {
      "model_module": "@jupyter-widgets/base",
      "model_module_version": "1.2.0",
      "model_name": "LayoutModel",
      "state": {}
     },
     "671e36109f764e1880573a1be858e394": {
      "model_module": "@jupyter-widgets/base",
      "model_module_version": "1.2.0",
      "model_name": "LayoutModel",
      "state": {}
     },
     "70b2dda4795f4312a854317b32ff1fe7": {
      "model_module": "@jupyter-widgets/base",
      "model_module_version": "1.2.0",
      "model_name": "LayoutModel",
      "state": {}
     },
     "754bd8f008f544aa9d9c2685f435ff9e": {
      "model_module": "@jupyter-widgets/controls",
      "model_module_version": "1.5.0",
      "model_name": "HBoxModel",
      "state": {
       "children": [
        "IPY_MODEL_dd7178d8a7904a6bb34340e07225f834",
        "IPY_MODEL_f6a1592b36764764859e104825dc59f1"
       ],
       "layout": "IPY_MODEL_ae92c73e64004e7c8c5cf227db6810d9"
      }
     },
     "7e8b491317e24acb9c55ae0df059cf20": {
      "model_module": "@jupyter-widgets/controls",
      "model_module_version": "1.5.0",
      "model_name": "HBoxModel",
      "state": {
       "children": [
        "IPY_MODEL_59ecaea0752e44bfb88afff147511ad6",
        "IPY_MODEL_bf512ea8d5a44560a6dfdd23541d63cf"
       ],
       "layout": "IPY_MODEL_0e1bc06f77fc4614ba3ffb60c38efdc3"
      }
     },
     "807b15945ce840499b3723ac7121f9b8": {
      "model_module": "@jupyter-widgets/base",
      "model_module_version": "1.2.0",
      "model_name": "LayoutModel",
      "state": {}
     },
     "83b700d2ca85468cb1f3e6ef5bff20bf": {
      "model_module": "@jupyter-widgets/controls",
      "model_module_version": "1.5.0",
      "model_name": "DescriptionStyleModel",
      "state": {
       "description_width": ""
      }
     },
     "85db2c36fe3e42a9b1a32eed0a11a817": {
      "model_module": "@jupyter-widgets/base",
      "model_module_version": "1.2.0",
      "model_name": "LayoutModel",
      "state": {}
     },
     "88b832aa00fe4b16aa4eed600f67a4b6": {
      "model_module": "@jupyter-widgets/controls",
      "model_module_version": "1.5.0",
      "model_name": "HBoxModel",
      "state": {
       "children": [
        "IPY_MODEL_153f151a4deb4ac8b3cd16d7ebbf4cdb",
        "IPY_MODEL_f6a2c71c2a8e411186aab6b9cb50fba7"
       ],
       "layout": "IPY_MODEL_526e2aa60560441fa3bf092b2d61c5f2"
      }
     },
     "8eb00fd4e89049db8095f59214866c5a": {
      "model_module": "@jupyter-widgets/base",
      "model_module_version": "1.2.0",
      "model_name": "LayoutModel",
      "state": {}
     },
     "935e706bc5e94bd2ad6124a2cb75fa70": {
      "model_module": "@jupyter-widgets/base",
      "model_module_version": "1.2.0",
      "model_name": "LayoutModel",
      "state": {}
     },
     "99a8abfb86774971aa3c652b128f6aed": {
      "model_module": "@jupyter-widgets/controls",
      "model_module_version": "1.5.0",
      "model_name": "HTMLModel",
      "state": {
       "layout": "IPY_MODEL_d5b4764b5af14d0695c505c777dbc6fd",
       "style": "IPY_MODEL_ec01eda9244c4101abcff7a772bd1a81",
       "value": "100% 1411180/1411180 [05:24&lt;00:00, 4354.35it/s]"
      }
     },
     "9a114472a6cd4a94967161df9af94618": {
      "model_module": "@jupyter-widgets/controls",
      "model_module_version": "1.5.0",
      "model_name": "IntProgressModel",
      "state": {
       "bar_style": "success",
       "layout": "IPY_MODEL_56d396469fe84e0582b9eef1262fce1a",
       "max": 1411180,
       "style": "IPY_MODEL_f15fcadddd0b46529d1bc0046d0971c2",
       "value": 1411180
      }
     },
     "9a2916cf96b543918c04a9567b1dab25": {
      "model_module": "@jupyter-widgets/controls",
      "model_module_version": "1.5.0",
      "model_name": "HTMLModel",
      "state": {
       "layout": "IPY_MODEL_2394abb8d0d04998871db9d7e6fddd92",
       "style": "IPY_MODEL_53714532afd942989481dcd5f90039df",
       "value": "0/|/| 0/? [00:00&lt;?, ?it/s]"
      }
     },
     "9e962055bbda4cda87d8b4b65fd15ee2": {
      "model_module": "@jupyter-widgets/base",
      "model_module_version": "1.2.0",
      "model_name": "LayoutModel",
      "state": {}
     },
     "9e9bb5747d1542fb92baa757c7d89eec": {
      "model_module": "@jupyter-widgets/controls",
      "model_module_version": "1.5.0",
      "model_name": "ProgressStyleModel",
      "state": {
       "description_width": ""
      }
     },
     "9e9d6a845bdf42f3a41d768aa06ac4f0": {
      "model_module": "@jupyter-widgets/controls",
      "model_module_version": "1.5.0",
      "model_name": "DescriptionStyleModel",
      "state": {
       "description_width": ""
      }
     },
     "9fb5ebfa03c844e0a68ba866e3536c2b": {
      "model_module": "@jupyter-widgets/base",
      "model_module_version": "1.2.0",
      "model_name": "LayoutModel",
      "state": {}
     },
     "a31b5cf9e78d402c99e46fbf8a253513": {
      "model_module": "@jupyter-widgets/controls",
      "model_module_version": "1.5.0",
      "model_name": "ProgressStyleModel",
      "state": {
       "description_width": ""
      }
     },
     "a763980662f244708386a832be159145": {
      "model_module": "@jupyter-widgets/controls",
      "model_module_version": "1.5.0",
      "model_name": "ProgressStyleModel",
      "state": {
       "description_width": ""
      }
     },
     "a94dcaa66b9a427ebaf96461a2fd4950": {
      "model_module": "@jupyter-widgets/base",
      "model_module_version": "1.2.0",
      "model_name": "LayoutModel",
      "state": {}
     },
     "ab2e927a26354d83abc1b85e0a5399f4": {
      "model_module": "@jupyter-widgets/base",
      "model_module_version": "1.2.0",
      "model_name": "LayoutModel",
      "state": {}
     },
     "ac314fe53a674fac8ad0693f1bbb6167": {
      "model_module": "@jupyter-widgets/controls",
      "model_module_version": "1.5.0",
      "model_name": "DescriptionStyleModel",
      "state": {
       "description_width": ""
      }
     },
     "ae36977aa2da43679534f520e078a8ab": {
      "model_module": "@jupyter-widgets/base",
      "model_module_version": "1.2.0",
      "model_name": "LayoutModel",
      "state": {}
     },
     "ae5298d3feda4519954ad48722b726de": {
      "model_module": "@jupyter-widgets/base",
      "model_module_version": "1.2.0",
      "model_name": "LayoutModel",
      "state": {}
     },
     "ae92c73e64004e7c8c5cf227db6810d9": {
      "model_module": "@jupyter-widgets/base",
      "model_module_version": "1.2.0",
      "model_name": "LayoutModel",
      "state": {}
     },
     "b2d50cf2c8a34c5baabee66861e87a9a": {
      "model_module": "@jupyter-widgets/base",
      "model_module_version": "1.2.0",
      "model_name": "LayoutModel",
      "state": {}
     },
     "b5a63f63fb9741148f647ad89fe52ea3": {
      "model_module": "@jupyter-widgets/base",
      "model_module_version": "1.2.0",
      "model_name": "LayoutModel",
      "state": {}
     },
     "b5acf33a770c480fa5604abe99655b1e": {
      "model_module": "@jupyter-widgets/controls",
      "model_module_version": "1.5.0",
      "model_name": "ProgressStyleModel",
      "state": {
       "description_width": ""
      }
     },
     "b6e3ceafbd154ffe8298a5919ad8a2d1": {
      "model_module": "@jupyter-widgets/controls",
      "model_module_version": "1.5.0",
      "model_name": "IntProgressModel",
      "state": {
       "bar_style": "success",
       "layout": "IPY_MODEL_6620e123e0d14fe48907f8cf60b0ebc5",
       "max": 1411180,
       "style": "IPY_MODEL_b5acf33a770c480fa5604abe99655b1e",
       "value": 1411180
      }
     },
     "ba1d4bab0b5b4ac4b1376a78d5695822": {
      "model_module": "@jupyter-widgets/base",
      "model_module_version": "1.2.0",
      "model_name": "LayoutModel",
      "state": {}
     },
     "bf512ea8d5a44560a6dfdd23541d63cf": {
      "model_module": "@jupyter-widgets/controls",
      "model_module_version": "1.5.0",
      "model_name": "HTMLModel",
      "state": {
       "layout": "IPY_MODEL_f74ee8114f974e70936f33c3bbbd9ae9",
       "style": "IPY_MODEL_d6187919ba2b41968e6faf8616a78a99",
       "value": "100% 1411180/1411180 [05:22&lt;00:00, 4380.94it/s]"
      }
     },
     "bfb81de90614416789334a8079163f55": {
      "model_module": "@jupyter-widgets/controls",
      "model_module_version": "1.5.0",
      "model_name": "HBoxModel",
      "state": {
       "children": [
        "IPY_MODEL_ff276fa495504e49a26abbf9b51b9454",
        "IPY_MODEL_cb63cfb7125047b68099c6db0158cd68"
       ],
       "layout": "IPY_MODEL_ae36977aa2da43679534f520e078a8ab"
      }
     },
     "c51d552ff7734c38995be64aa4f961aa": {
      "model_module": "@jupyter-widgets/controls",
      "model_module_version": "1.5.0",
      "model_name": "IntProgressModel",
      "state": {
       "bar_style": "success",
       "layout": "IPY_MODEL_ae5298d3feda4519954ad48722b726de",
       "max": 1,
       "style": "IPY_MODEL_35ceb3f1378144628a4d6296c43816a9",
       "value": 1
      }
     },
     "c5cee37d0ce4480db219f9cf51e31199": {
      "model_module": "@jupyter-widgets/base",
      "model_module_version": "1.2.0",
      "model_name": "LayoutModel",
      "state": {}
     },
     "cb63cfb7125047b68099c6db0158cd68": {
      "model_module": "@jupyter-widgets/controls",
      "model_module_version": "1.5.0",
      "model_name": "HTMLModel",
      "state": {
       "layout": "IPY_MODEL_2f00f6c538574577aa1566b1742c5a3a",
       "style": "IPY_MODEL_257293da874446a5b69bd233f87274df",
       "value": "100% 1411180/1411180 [04:27&lt;00:00, 5270.98it/s]"
      }
     },
     "cdec2692e70e47668ce2883af57329df": {
      "model_module": "@jupyter-widgets/controls",
      "model_module_version": "1.5.0",
      "model_name": "IntProgressModel",
      "state": {
       "bar_style": "success",
       "layout": "IPY_MODEL_fa94ee160336401b92b1c2cc823ec668",
       "max": 1411180,
       "style": "IPY_MODEL_08e193aaa1bc4ea48576479c4b6dda77",
       "value": 1411180
      }
     },
     "cf0c30fea6b34303a9a1c89204cbe488": {
      "model_module": "@jupyter-widgets/controls",
      "model_module_version": "1.5.0",
      "model_name": "HBoxModel",
      "state": {
       "children": [
        "IPY_MODEL_cdec2692e70e47668ce2883af57329df",
        "IPY_MODEL_054c41dfdc9d47d9b7afadb71ff7ce87"
       ],
       "layout": "IPY_MODEL_07485c104d4747b7b2402c23d4651252"
      }
     },
     "d124a161382b4710b8477433d821a69f": {
      "model_module": "@jupyter-widgets/base",
      "model_module_version": "1.2.0",
      "model_name": "LayoutModel",
      "state": {}
     },
     "d5b4764b5af14d0695c505c777dbc6fd": {
      "model_module": "@jupyter-widgets/base",
      "model_module_version": "1.2.0",
      "model_name": "LayoutModel",
      "state": {}
     },
     "d6187919ba2b41968e6faf8616a78a99": {
      "model_module": "@jupyter-widgets/controls",
      "model_module_version": "1.5.0",
      "model_name": "DescriptionStyleModel",
      "state": {
       "description_width": ""
      }
     },
     "d803bdd90fec4f40b951ca30b44c380b": {
      "model_module": "@jupyter-widgets/base",
      "model_module_version": "1.2.0",
      "model_name": "LayoutModel",
      "state": {}
     },
     "da5cce2bded6418d92054cebcf647bb6": {
      "model_module": "@jupyter-widgets/base",
      "model_module_version": "1.2.0",
      "model_name": "LayoutModel",
      "state": {}
     },
     "dd7178d8a7904a6bb34340e07225f834": {
      "model_module": "@jupyter-widgets/controls",
      "model_module_version": "1.5.0",
      "model_name": "IntProgressModel",
      "state": {
       "bar_style": "success",
       "layout": "IPY_MODEL_c5cee37d0ce4480db219f9cf51e31199",
       "max": 1411180,
       "style": "IPY_MODEL_a763980662f244708386a832be159145",
       "value": 1411180
      }
     },
     "df841c40fb834047b880002ba2842e09": {
      "model_module": "@jupyter-widgets/controls",
      "model_module_version": "1.5.0",
      "model_name": "HBoxModel",
      "state": {
       "children": [
        "IPY_MODEL_13cc993109524a129e94a073629fca21",
        "IPY_MODEL_535082bd83c446af83f20ac0caca1723"
       ],
       "layout": "IPY_MODEL_9fb5ebfa03c844e0a68ba866e3536c2b"
      }
     },
     "e0b67dfd8671495482c3f847c0a1eded": {
      "model_module": "@jupyter-widgets/controls",
      "model_module_version": "1.5.0",
      "model_name": "IntProgressModel",
      "state": {
       "bar_style": "success",
       "layout": "IPY_MODEL_da5cce2bded6418d92054cebcf647bb6",
       "max": 1411180,
       "style": "IPY_MODEL_5d44583be9484953b0a33a1f44b104b9",
       "value": 1411180
      }
     },
     "e1b3d9b829804b09a4ee5d61a28a7d65": {
      "model_module": "@jupyter-widgets/controls",
      "model_module_version": "1.5.0",
      "model_name": "ProgressStyleModel",
      "state": {
       "description_width": ""
      }
     },
     "e4f06be163734603b90b8dc4de7d761b": {
      "model_module": "@jupyter-widgets/controls",
      "model_module_version": "1.5.0",
      "model_name": "ProgressStyleModel",
      "state": {
       "description_width": ""
      }
     },
     "e90565ca607645c79972973003dbfc91": {
      "model_module": "@jupyter-widgets/controls",
      "model_module_version": "1.5.0",
      "model_name": "ProgressStyleModel",
      "state": {
       "description_width": ""
      }
     },
     "ec01eda9244c4101abcff7a772bd1a81": {
      "model_module": "@jupyter-widgets/controls",
      "model_module_version": "1.5.0",
      "model_name": "DescriptionStyleModel",
      "state": {
       "description_width": ""
      }
     },
     "ee7a5d39c6d3408f90ed746f77da0257": {
      "model_module": "@jupyter-widgets/controls",
      "model_module_version": "1.5.0",
      "model_name": "DescriptionStyleModel",
      "state": {
       "description_width": ""
      }
     },
     "f07d3359ec0f47f988505d740b0da509": {
      "model_module": "@jupyter-widgets/base",
      "model_module_version": "1.2.0",
      "model_name": "LayoutModel",
      "state": {}
     },
     "f15fcadddd0b46529d1bc0046d0971c2": {
      "model_module": "@jupyter-widgets/controls",
      "model_module_version": "1.5.0",
      "model_name": "ProgressStyleModel",
      "state": {
       "description_width": ""
      }
     },
     "f1b6525e598d4744b4b7759fdb4221b7": {
      "model_module": "@jupyter-widgets/controls",
      "model_module_version": "1.5.0",
      "model_name": "HBoxModel",
      "state": {
       "children": [
        "IPY_MODEL_b6e3ceafbd154ffe8298a5919ad8a2d1",
        "IPY_MODEL_35d481913ccf4f5a9702773fab7abfd1"
       ],
       "layout": "IPY_MODEL_ba1d4bab0b5b4ac4b1376a78d5695822"
      }
     },
     "f6a1592b36764764859e104825dc59f1": {
      "model_module": "@jupyter-widgets/controls",
      "model_module_version": "1.5.0",
      "model_name": "HTMLModel",
      "state": {
       "layout": "IPY_MODEL_31f1b0a900ba491ca6e16c0c8d30d6ef",
       "style": "IPY_MODEL_83b700d2ca85468cb1f3e6ef5bff20bf",
       "value": "100% 1411180/1411180 [06:17&lt;00:00, 3735.49it/s]"
      }
     },
     "f6a2c71c2a8e411186aab6b9cb50fba7": {
      "model_module": "@jupyter-widgets/controls",
      "model_module_version": "1.5.0",
      "model_name": "HTMLModel",
      "state": {
       "layout": "IPY_MODEL_a94dcaa66b9a427ebaf96461a2fd4950",
       "style": "IPY_MODEL_098fc4fe344a45619bdc7cab66931c3b",
       "value": "100% 1411180/1411180 [05:18&lt;00:00, 4431.67it/s]"
      }
     },
     "f74ee8114f974e70936f33c3bbbd9ae9": {
      "model_module": "@jupyter-widgets/base",
      "model_module_version": "1.2.0",
      "model_name": "LayoutModel",
      "state": {}
     },
     "f82e999855174d64bb4864498939fde5": {
      "model_module": "@jupyter-widgets/base",
      "model_module_version": "1.2.0",
      "model_name": "LayoutModel",
      "state": {}
     },
     "fa94ee160336401b92b1c2cc823ec668": {
      "model_module": "@jupyter-widgets/base",
      "model_module_version": "1.2.0",
      "model_name": "LayoutModel",
      "state": {}
     },
     "fb8c7addb8994233926cc57fedfbdde1": {
      "model_module": "@jupyter-widgets/base",
      "model_module_version": "1.2.0",
      "model_name": "LayoutModel",
      "state": {}
     },
     "fdf867940abf48adbf11cf8a1c36911a": {
      "model_module": "@jupyter-widgets/controls",
      "model_module_version": "1.5.0",
      "model_name": "HBoxModel",
      "state": {
       "children": [
        "IPY_MODEL_24eb25189b18482ca0954b507a9f0061",
        "IPY_MODEL_99a8abfb86774971aa3c652b128f6aed"
       ],
       "layout": "IPY_MODEL_70b2dda4795f4312a854317b32ff1fe7"
      }
     },
     "ff276fa495504e49a26abbf9b51b9454": {
      "model_module": "@jupyter-widgets/controls",
      "model_module_version": "1.5.0",
      "model_name": "IntProgressModel",
      "state": {
       "bar_style": "success",
       "layout": "IPY_MODEL_3f53b3c432364a1ebc097923a431906d",
       "max": 1411180,
       "style": "IPY_MODEL_a31b5cf9e78d402c99e46fbf8a253513",
       "value": 1411180
      }
     }
    },
    "version_major": 2,
    "version_minor": 0
   }
  }
 },
 "nbformat": 4,
 "nbformat_minor": 2
}
