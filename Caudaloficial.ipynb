{
 "cells": [
  {
   "cell_type": "code",
   "execution_count": 472,
   "metadata": {},
   "outputs": [
    {
     "name": "stdout",
     "output_type": "stream",
     "text": [
      "Setup complete\n"
     ]
    }
   ],
   "source": [
    "import pandas as pd\n",
    "import numpy as np\n",
    "import matplotlib.pyplot as plt\n",
    "import seaborn as sns\n",
    "\n",
    "from datetime import date,datetime\n",
    "\n",
    "from tqdm import tqdm, tqdm_notebook\n",
    "\n",
    "from sklearn.model_selection import train_test_split\n",
    "\n",
    "print(\"Setup complete\")"
   ]
  },
  {
   "cell_type": "code",
   "execution_count": 2,
   "metadata": {},
   "outputs": [],
   "source": [
    "caudal_data = pd.read_csv('/Users/juanjosegranier/Downloads/caudal_extra.csv')"
   ]
  },
  {
   "cell_type": "code",
   "execution_count": 3,
   "metadata": {},
   "outputs": [],
   "source": [
    "Y = 2000 # dummy leap year to allow input X-02-29 (leap day)\n",
    "seasons = [('verano', (date(Y,  1,  1),  date(Y,  3, 20))),\n",
    "           ('otono', (date(Y,  3, 21),  date(Y,  6, 20))),\n",
    "           ('invierno', (date(Y,  6, 21),  date(Y,  9, 20))),\n",
    "           ('primavera', (date(Y,  9, 21),  date(Y, 12, 20))),\n",
    "           ('verano', (date(Y, 12, 21),  date(Y, 12, 31)))]\n",
    "\n",
    "def get_season(now):\n",
    "    if isinstance(now, datetime):\n",
    "        now = now.date()\n",
    "    now = now.replace(year=Y)\n",
    "    return next(season for season, (start, end) in seasons\n",
    "                if start <= now <= end)"
   ]
  },
  {
   "cell_type": "code",
   "execution_count": 5,
   "metadata": {},
   "outputs": [],
   "source": [
    "caudal = caudal_data.copy()\n",
    "caudal['fecha'] = pd.to_datetime(caudal_data['fecha'])\n",
    "caudal['season'] = caudal['fecha'].apply(get_season)"
   ]
  },
  {
   "cell_type": "code",
   "execution_count": 47,
   "metadata": {},
   "outputs": [
    {
     "name": "stdout",
     "output_type": "stream",
     "text": [
      "0             verano\n",
      "1              otono\n",
      "2              otono\n",
      "3           invierno\n",
      "4           invierno\n",
      "5           invierno\n",
      "6           invierno\n",
      "7          primavera\n",
      "8          primavera\n",
      "9          primavera\n",
      "10            verano\n",
      "11            verano\n",
      "12             otono\n",
      "13             otono\n",
      "14          invierno\n",
      "15          invierno\n",
      "16          invierno\n",
      "17          invierno\n",
      "18         primavera\n",
      "19         primavera\n",
      "20         primavera\n",
      "21          invierno\n",
      "22          invierno\n",
      "23          invierno\n",
      "24          invierno\n",
      "25          invierno\n",
      "26         primavera\n",
      "27         primavera\n",
      "28         primavera\n",
      "29            verano\n",
      "             ...    \n",
      "1411150    primavera\n",
      "1411151    primavera\n",
      "1411152        otono\n",
      "1411153     invierno\n",
      "1411154     invierno\n",
      "1411155        otono\n",
      "1411156    primavera\n",
      "1411157    primavera\n",
      "1411158    primavera\n",
      "1411159    primavera\n",
      "1411160    primavera\n",
      "1411161       verano\n",
      "1411162       verano\n",
      "1411163       verano\n",
      "1411164        otono\n",
      "1411165     invierno\n",
      "1411166     invierno\n",
      "1411167     invierno\n",
      "1411168    primavera\n",
      "1411169    primavera\n",
      "1411170    primavera\n",
      "1411171       verano\n",
      "1411172        otono\n",
      "1411173        otono\n",
      "1411174    primavera\n",
      "1411175    primavera\n",
      "1411176    primavera\n",
      "1411177       verano\n",
      "1411178       verano\n",
      "1411179       verano\n",
      "Name: season, Length: 1411180, dtype: object\n"
     ]
    }
   ],
   "source": [
    "#print(caudal['season'])"
   ]
  },
  {
   "cell_type": "code",
   "execution_count": 53,
   "metadata": {},
   "outputs": [],
   "source": [
    "estaciones0 = caudal.codigo_estacion.unique()\n",
    "estaciones = estaciones0.tolist()\n",
    "temporadas = ['verano','otono','invierno','primavera']"
   ]
  },
  {
   "cell_type": "code",
   "execution_count": null,
   "metadata": {},
   "outputs": [],
   "source": []
  },
  {
   "cell_type": "code",
   "execution_count": 185,
   "metadata": {},
   "outputs": [],
   "source": [
    "x_caudal = [[0 for i in range(133)] for i in range(4)]\n",
    "x_temp =[[0 for i in range(133)] for i in range(4)]\n",
    "x_precip = [[0 for i in range(133)] for i in range(4)]\n",
    "\n",
    "for estacion in estaciones:\n",
    "    for temporada in temporadas:\n",
    "        caudalis = caudal.loc[caudal.codigo_estacion == estacion]\n",
    "        caudalis2 = caudalis.loc[caudalis.season == temporada]\n",
    "        i = temporadas.index(temporada)\n",
    "        j = estaciones.index(estacion)\n",
    "        x_caudal[i][j] = np.percentile(caudalis2['caudal'],95)\n",
    "        x_temp[i][j] = np.percentile(caudalis2['temp_max_promedio'],95)\n",
    "        x_precip[i][j] = np.percentile(caudalis2['precip_promedio'],95)"
   ]
  },
  {
   "cell_type": "code",
   "execution_count": 169,
   "metadata": {
    "scrolled": true
   },
   "outputs": [],
   "source": [
    "caudal['p95c'] = ''\n",
    "caudal['p95p'] = ''\n",
    "caudal['p95t'] = ''\n",
    "\n",
    "\n",
    "\n",
    "\n",
    "\n",
    "        \n",
    "\n",
    "\n"
   ]
  },
  {
   "cell_type": "code",
   "execution_count": 174,
   "metadata": {},
   "outputs": [],
   "source": [
    "def p95_caudal(estacion):\n",
    "    i = estaciones.index(estacion)\n",
    "    return [x_caudal[0][i], x_caudal[1][i], x_caudal[2][i], x_caudal[3][i]]\n",
    "\n",
    "def p95_temp(estacion):\n",
    "    i = estaciones.index(estacion)\n",
    "    return [x_temp[0][i],  x_temp[1][i], x_temp[2][i], x_temp[3][i]]\n",
    "\n",
    "def p95_precip(estacion):\n",
    "    i = estaciones.index(estacion)\n",
    "    return [ x_precip[0][i], x_precip[1][i], x_precip[2][i] , x_precip[3][i]]\n",
    "    \n",
    "\n",
    "\n",
    "\n"
   ]
  },
  {
   "cell_type": "code",
   "execution_count": 188,
   "metadata": {},
   "outputs": [],
   "source": [
    "caudal['p95c'] = caudal['codigo_estacion'].apply(p95_caudal)\n",
    "caudal['p95t'] = caudal['codigo_estacion'].apply(p95_temp)\n",
    "caudal['p95p'] = caudal['codigo_estacion'].apply(p95_precip)\n"
   ]
  },
  {
   "cell_type": "code",
   "execution_count": 209,
   "metadata": {},
   "outputs": [],
   "source": [
    "def elemento(a,b):\n",
    "    i = temporadas.index(b)\n",
    "    return a[i]\n"
   ]
  },
  {
   "cell_type": "code",
   "execution_count": 213,
   "metadata": {},
   "outputs": [
    {
     "data": {
      "application/vnd.jupyter.widget-view+json": {
       "model_id": "70e56d98645c43568f319f3e9bf3b350",
       "version_major": 2,
       "version_minor": 0
      },
      "text/plain": [
       "HBox(children=(IntProgress(value=1, bar_style='info', max=1), HTML(value='')))"
      ]
     },
     "metadata": {},
     "output_type": "display_data"
    },
    {
     "name": "stdout",
     "output_type": "stream",
     "text": [
      "\n"
     ]
    },
    {
     "data": {
      "application/vnd.jupyter.widget-view+json": {
       "model_id": "7cbba1365bf54347ba8829d2aebaf54d",
       "version_major": 2,
       "version_minor": 0
      },
      "text/plain": [
       "HBox(children=(IntProgress(value=0, max=1411180), HTML(value='')))"
      ]
     },
     "metadata": {},
     "output_type": "display_data"
    },
    {
     "name": "stdout",
     "output_type": "stream",
     "text": [
      "\n"
     ]
    }
   ],
   "source": [
    "\n",
    "tqdm_notebook().pandas()\n",
    "\n",
    "caudal['p95cdef'] = caudal.progress_apply(lambda row: elemento(row['p95c'], row['season']), axis = 1)\n",
    "\n",
    "\n"
   ]
  },
  {
   "cell_type": "code",
   "execution_count": 214,
   "metadata": {},
   "outputs": [
    {
     "data": {
      "application/vnd.jupyter.widget-view+json": {
       "model_id": "766c90b1a1844f52b4a8f765aa102bfd",
       "version_major": 2,
       "version_minor": 0
      },
      "text/plain": [
       "HBox(children=(IntProgress(value=0, max=1411180), HTML(value='')))"
      ]
     },
     "metadata": {},
     "output_type": "display_data"
    },
    {
     "name": "stdout",
     "output_type": "stream",
     "text": [
      "\n"
     ]
    }
   ],
   "source": [
    "caudal['p95tdef'] = caudal.progress_apply(lambda row: elemento(row['p95t'], row['season']), axis = 1 )"
   ]
  },
  {
   "cell_type": "code",
   "execution_count": 216,
   "metadata": {},
   "outputs": [
    {
     "data": {
      "application/vnd.jupyter.widget-view+json": {
       "model_id": "045d6fa1075a4920b1192efc5cfb4dc1",
       "version_major": 2,
       "version_minor": 0
      },
      "text/plain": [
       "HBox(children=(IntProgress(value=0, max=1411180), HTML(value='')))"
      ]
     },
     "metadata": {},
     "output_type": "display_data"
    },
    {
     "name": "stdout",
     "output_type": "stream",
     "text": [
      "\n"
     ]
    }
   ],
   "source": [
    "caudal['p95pdef'] = caudal.progress_apply(lambda row: elemento(row['p95p'], row['season']), axis = 1)\n",
    "\n"
   ]
  },
  {
   "cell_type": "code",
   "execution_count": 220,
   "metadata": {},
   "outputs": [],
   "source": [
    "def extremo(a,b):\n",
    "    if a >= b:\n",
    "        return 1\n",
    "    else:\n",
    "        return 0\n",
    "    "
   ]
  },
  {
   "cell_type": "code",
   "execution_count": 221,
   "metadata": {},
   "outputs": [
    {
     "data": {
      "application/vnd.jupyter.widget-view+json": {
       "model_id": "0d924fcc71f44ba1b4ca2b5bbdd423c7",
       "version_major": 2,
       "version_minor": 0
      },
      "text/plain": [
       "HBox(children=(IntProgress(value=0, max=1411180), HTML(value='')))"
      ]
     },
     "metadata": {},
     "output_type": "display_data"
    }
   ],
   "source": [
    "caudal['caudal_extremo'] = caudal.progress_apply(lambda row: extremo(row['caudal'], row['p95cdef']), axis = 1)\n"
   ]
  },
  {
   "cell_type": "code",
   "execution_count": 222,
   "metadata": {},
   "outputs": [
    {
     "data": {
      "application/vnd.jupyter.widget-view+json": {
       "model_id": "e0f16f683abc466eadced4c7af2d6c79",
       "version_major": 2,
       "version_minor": 0
      },
      "text/plain": [
       "HBox(children=(IntProgress(value=0, max=1411180), HTML(value='')))"
      ]
     },
     "metadata": {},
     "output_type": "display_data"
    }
   ],
   "source": [
    "caudal['temp_extremo'] = caudal.progress_apply(lambda row: extremo(row['temp_max_promedio'], row['p95tdef']), axis = 1)"
   ]
  },
  {
   "cell_type": "code",
   "execution_count": 223,
   "metadata": {},
   "outputs": [
    {
     "data": {
      "application/vnd.jupyter.widget-view+json": {
       "model_id": "6661a13fdeb34bcbb7f319d5ba2dc211",
       "version_major": 2,
       "version_minor": 0
      },
      "text/plain": [
       "HBox(children=(IntProgress(value=0, max=1411180), HTML(value='')))"
      ]
     },
     "metadata": {},
     "output_type": "display_data"
    }
   ],
   "source": [
    "caudal['precip_extremo'] = caudal.progress_apply(lambda row: extremo(row['precip_promedio'], row['p95pdef']), axis = 1)"
   ]
  },
  {
   "cell_type": "code",
   "execution_count": 338,
   "metadata": {},
   "outputs": [
    {
     "data": {
      "application/vnd.jupyter.widget-view+json": {
       "model_id": "cf4692ce9d0f416a91bfb77da87342a4",
       "version_major": 2,
       "version_minor": 0
      },
      "text/plain": [
       "HBox(children=(IntProgress(value=0, max=1411180), HTML(value='')))"
      ]
     },
     "metadata": {},
     "output_type": "display_data"
    }
   ],
   "source": [
    "caudal['year'] = caudal.progress_apply(lambda row: row['fecha'].year, axis = 1)"
   ]
  },
  {
   "cell_type": "code",
   "execution_count": 352,
   "metadata": {},
   "outputs": [],
   "source": [
    "def evento(a):\n",
    "    if pd.notna(a) == True:\n",
    "        return 1\n",
    "    else:\n",
    "        return 0  "
   ]
  },
  {
   "cell_type": "code",
   "execution_count": 353,
   "metadata": {},
   "outputs": [
    {
     "data": {
      "application/vnd.jupyter.widget-view+json": {
       "model_id": "8713c882731041408e31f74b4af95738",
       "version_major": 2,
       "version_minor": 0
      },
      "text/plain": [
       "HBox(children=(IntProgress(value=0, max=1411180), HTML(value='')))"
      ]
     },
     "metadata": {},
     "output_type": "display_data"
    },
    {
     "data": {
      "application/vnd.jupyter.widget-view+json": {
       "model_id": "d78ffb714b4b4a7ab9a09ab48bc2da06",
       "version_major": 2,
       "version_minor": 0
      },
      "text/plain": [
       "HBox(children=(IntProgress(value=0, max=1411180), HTML(value='')))"
      ]
     },
     "metadata": {},
     "output_type": "display_data"
    },
    {
     "data": {
      "application/vnd.jupyter.widget-view+json": {
       "model_id": "4282b623ad194e28bdcb92ccc163cead",
       "version_major": 2,
       "version_minor": 0
      },
      "text/plain": [
       "HBox(children=(IntProgress(value=0, max=1411180), HTML(value='')))"
      ]
     },
     "metadata": {},
     "output_type": "display_data"
    }
   ],
   "source": [
    "caudal['caudalevento'] = caudal.progress_apply(lambda row: evento(row['caudal']), axis = 1)\n",
    "caudal['tempevento'] = caudal.progress_apply(lambda row: evento(row['temp_max_promedio']), axis = 1)\n",
    "caudal['precipevento'] = caudal.progress_apply(lambda row: evento(row['precip_promedio']), axis = 1)\n",
    "\n"
   ]
  },
  {
   "cell_type": "code",
   "execution_count": 438,
   "metadata": {},
   "outputs": [],
   "source": [
    "x2_caudal = [0 for i in range(59)]\n",
    "x2_temp = [0 for i in range(59)]\n",
    "x2_prep = [0 for i in range(59)]\n",
    "\n",
    "y2_caudal = [0 for i in range(59)]\n",
    "y2_temp = [0 for i in range(59)]\n",
    "y2_prep = [0 for i in range(59)]\n",
    "\n",
    "z2_caudal = [0 for i in range(59)]\n",
    "z2_temp = [0 for i in range(59)]\n",
    "z2_prep = [0 for i in range(59)]\n",
    "\n",
    "\n",
    "\n",
    "\n",
    "\n"
   ]
  },
  {
   "cell_type": "code",
   "execution_count": 467,
   "metadata": {},
   "outputs": [],
   "source": [
    "hola_caudal = caudal.groupby('year').caudalevento.value_counts().sort_index()\n",
    "hola_temp = caudal.groupby('year').tempevento.value_counts().sort_index()\n",
    "hola_prep = caudal.groupby('year').precipevento.value_counts().sort_index()\n",
    "hola2_caudal = caudal.groupby('year').caudal_extremo.value_counts().sort_index()\n",
    "hola2_temp = caudal.groupby('year').temp_extremo.value_counts().sort_index()\n",
    "hola2_prep = caudal.groupby('year').precip_extremo.value_counts().sort_index()"
   ]
  },
  {
   "cell_type": "code",
   "execution_count": 468,
   "metadata": {},
   "outputs": [],
   "source": [
    "for i in range(59):\n",
    "    x2_caudal[i] = hola_caudal[i]\n",
    "    x2_temp[i] = hola_temp[i]\n",
    "    x2_prep[i] = hola_prep[i]\n",
    "    y2_caudal[i] = hola2_caudal[2*i+1]\n",
    "    y2_temp[i] = hola2_temp[2*i + 1]\n",
    "    y2_prep[i] = hola2_prep[2*i+1]\n",
    "    z2_caudal[i] = (y2_caudal[i]/x2_caudal[i])*100\n",
    "    z2_temp[i] = (y2_temp[i]/x2_temp[i])*100\n",
    "    z2_prep[i] = (y2_prep[i]/x2_prep[i])*100"
   ]
  },
  {
   "cell_type": "code",
   "execution_count": 469,
   "metadata": {},
   "outputs": [
    {
     "data": {
      "text/plain": [
       "[<matplotlib.lines.Line2D at 0x1a37878f98>]"
      ]
     },
     "execution_count": 469,
     "metadata": {},
     "output_type": "execute_result"
    },
    {
     "data": {
      "image/png": "[encoded data removed]",
      "text/plain": [
       "<Figure size 432x288 with 1 Axes>"
      ]
     },
     "metadata": {
      "needs_background": "light"
     },
     "output_type": "display_data"
    }
   ],
   "source": [
    "plt.plot(years,z2_caudal)\n"
   ]
  },
  {
   "cell_type": "code",
   "execution_count": 473,
   "metadata": {},
   "outputs": [],
   "source": [
    "train, test = train_test_split(caudal, test_size=0.3)"
   ]
  },
  {
   "cell_type": "code",
   "execution_count": null,
   "metadata": {},
   "outputs": [],
   "source": []
  }
 ],
 "metadata": {
  "kernelspec": {
   "display_name": "Python 3",
   "language": "python",
   "name": "python3"
  },
  "language_info": {
   "codemirror_mode": {
    "name": "ipython",
    "version": 3
   },
   "file_extension": ".py",
   "mimetype": "text/x-python",
   "name": "python",
   "nbconvert_exporter": "python",
   "pygments_lexer": "ipython3",
   "version": "3.7.3"
  }
 },
 "nbformat": 4,
 "nbformat_minor": 2
}
